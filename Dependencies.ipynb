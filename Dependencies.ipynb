{
 "cells": [
  {
   "cell_type": "code",
   "execution_count": 1,
   "id": "4736d5bf-85bd-4e55-925a-8ab3a160b18e",
   "metadata": {},
   "outputs": [
    {
     "name": "stdout",
     "output_type": "stream",
     "text": [
      "Requirement already satisfied: Flask-Mail in c:\\users\\shekhani laptops\\anaconda3\\lib\\site-packages (0.10.0)\n",
      "Requirement already satisfied: flask in c:\\users\\shekhani laptops\\anaconda3\\lib\\site-packages (from Flask-Mail) (3.0.3)\n",
      "Requirement already satisfied: blinker in c:\\users\\shekhani laptops\\anaconda3\\lib\\site-packages (from Flask-Mail) (1.6.2)\n",
      "Requirement already satisfied: Werkzeug>=3.0.0 in c:\\users\\shekhani laptops\\anaconda3\\lib\\site-packages (from flask->Flask-Mail) (3.0.3)\n",
      "Requirement already satisfied: Jinja2>=3.1.2 in c:\\users\\shekhani laptops\\anaconda3\\lib\\site-packages (from flask->Flask-Mail) (3.1.4)\n",
      "Requirement already satisfied: itsdangerous>=2.1.2 in c:\\users\\shekhani laptops\\anaconda3\\lib\\site-packages (from flask->Flask-Mail) (2.2.0)\n",
      "Requirement already satisfied: click>=8.1.3 in c:\\users\\shekhani laptops\\anaconda3\\lib\\site-packages (from flask->Flask-Mail) (8.1.7)\n",
      "Requirement already satisfied: colorama in c:\\users\\shekhani laptops\\anaconda3\\lib\\site-packages (from click>=8.1.3->flask->Flask-Mail) (0.4.6)\n",
      "Requirement already satisfied: MarkupSafe>=2.0 in c:\\users\\shekhani laptops\\anaconda3\\lib\\site-packages (from Jinja2>=3.1.2->flask->Flask-Mail) (2.1.3)\n"
     ]
    }
   ],
   "source": [
    "!pip install Flask-Mail"
   ]
  },
  {
   "cell_type": "code",
   "execution_count": 3,
   "id": "3afc88e1-c729-4342-8cd5-c17ef04b982c",
   "metadata": {},
   "outputs": [
    {
     "name": "stdout",
     "output_type": "stream",
     "text": [
      "Requirement already satisfied: transformers in c:\\users\\shekhani laptops\\anaconda3\\lib\\site-packages (4.50.0)\n",
      "Requirement already satisfied: torch in c:\\users\\shekhani laptops\\anaconda3\\lib\\site-packages (2.6.0)\n",
      "Requirement already satisfied: flask in c:\\users\\shekhani laptops\\anaconda3\\lib\\site-packages (3.0.3)\n",
      "Requirement already satisfied: filelock in c:\\users\\shekhani laptops\\anaconda3\\lib\\site-packages (from transformers) (3.13.1)\n",
      "Requirement already satisfied: huggingface-hub<1.0,>=0.26.0 in c:\\users\\shekhani laptops\\anaconda3\\lib\\site-packages (from transformers) (0.29.3)\n",
      "Requirement already satisfied: numpy>=1.17 in c:\\users\\shekhani laptops\\anaconda3\\lib\\site-packages (from transformers) (1.26.4)\n",
      "Requirement already satisfied: packaging>=20.0 in c:\\users\\shekhani laptops\\anaconda3\\lib\\site-packages (from transformers) (24.1)\n",
      "Requirement already satisfied: pyyaml>=5.1 in c:\\users\\shekhani laptops\\anaconda3\\lib\\site-packages (from transformers) (6.0.1)\n",
      "Requirement already satisfied: regex!=2019.12.17 in c:\\users\\shekhani laptops\\anaconda3\\lib\\site-packages (from transformers) (2024.9.11)\n",
      "Requirement already satisfied: requests in c:\\users\\shekhani laptops\\anaconda3\\lib\\site-packages (from transformers) (2.32.3)\n",
      "Requirement already satisfied: tokenizers<0.22,>=0.21 in c:\\users\\shekhani laptops\\anaconda3\\lib\\site-packages (from transformers) (0.21.1)\n",
      "Requirement already satisfied: safetensors>=0.4.3 in c:\\users\\shekhani laptops\\anaconda3\\lib\\site-packages (from transformers) (0.5.3)\n",
      "Requirement already satisfied: tqdm>=4.27 in c:\\users\\shekhani laptops\\anaconda3\\lib\\site-packages (from transformers) (4.66.5)\n",
      "Requirement already satisfied: typing-extensions>=4.10.0 in c:\\users\\shekhani laptops\\anaconda3\\lib\\site-packages (from torch) (4.11.0)\n",
      "Requirement already satisfied: networkx in c:\\users\\shekhani laptops\\anaconda3\\lib\\site-packages (from torch) (3.3)\n",
      "Requirement already satisfied: jinja2 in c:\\users\\shekhani laptops\\anaconda3\\lib\\site-packages (from torch) (3.1.4)\n",
      "Requirement already satisfied: fsspec in c:\\users\\shekhani laptops\\anaconda3\\lib\\site-packages (from torch) (2024.6.1)\n",
      "Requirement already satisfied: setuptools in c:\\users\\shekhani laptops\\anaconda3\\lib\\site-packages (from torch) (75.1.0)\n",
      "Requirement already satisfied: sympy==1.13.1 in c:\\users\\shekhani laptops\\anaconda3\\lib\\site-packages (from torch) (1.13.1)\n",
      "Requirement already satisfied: mpmath<1.4,>=1.1.0 in c:\\users\\shekhani laptops\\anaconda3\\lib\\site-packages (from sympy==1.13.1->torch) (1.3.0)\n",
      "Requirement already satisfied: Werkzeug>=3.0.0 in c:\\users\\shekhani laptops\\anaconda3\\lib\\site-packages (from flask) (3.0.3)\n",
      "Requirement already satisfied: itsdangerous>=2.1.2 in c:\\users\\shekhani laptops\\anaconda3\\lib\\site-packages (from flask) (2.2.0)\n",
      "Requirement already satisfied: click>=8.1.3 in c:\\users\\shekhani laptops\\anaconda3\\lib\\site-packages (from flask) (8.1.7)\n",
      "Requirement already satisfied: blinker>=1.6.2 in c:\\users\\shekhani laptops\\anaconda3\\lib\\site-packages (from flask) (1.6.2)\n",
      "Requirement already satisfied: colorama in c:\\users\\shekhani laptops\\anaconda3\\lib\\site-packages (from click>=8.1.3->flask) (0.4.6)\n",
      "Requirement already satisfied: MarkupSafe>=2.0 in c:\\users\\shekhani laptops\\anaconda3\\lib\\site-packages (from jinja2->torch) (2.1.3)\n",
      "Requirement already satisfied: charset-normalizer<4,>=2 in c:\\users\\shekhani laptops\\anaconda3\\lib\\site-packages (from requests->transformers) (3.3.2)\n",
      "Requirement already satisfied: idna<4,>=2.5 in c:\\users\\shekhani laptops\\anaconda3\\lib\\site-packages (from requests->transformers) (3.7)\n",
      "Requirement already satisfied: urllib3<3,>=1.21.1 in c:\\users\\shekhani laptops\\anaconda3\\lib\\site-packages (from requests->transformers) (2.2.3)\n",
      "Requirement already satisfied: certifi>=2017.4.17 in c:\\users\\shekhani laptops\\anaconda3\\lib\\site-packages (from requests->transformers) (2024.8.30)\n"
     ]
    }
   ],
   "source": [
    "!pip install transformers torch flask"
   ]
  },
  {
   "cell_type": "code",
   "execution_count": 4,
   "id": "81325b4a-f827-4c8e-a828-7d1d04144f70",
   "metadata": {},
   "outputs": [
    {
     "name": "stdout",
     "output_type": "stream",
     "text": [
      "Requirement already satisfied: pdfplumber in c:\\users\\shekhani laptops\\anaconda3\\lib\\site-packages (0.11.6)\n",
      "Requirement already satisfied: python-docx in c:\\users\\shekhani laptops\\anaconda3\\lib\\site-packages (1.1.2)\n",
      "Requirement already satisfied: pdfminer.six==20250327 in c:\\users\\shekhani laptops\\anaconda3\\lib\\site-packages (from pdfplumber) (20250327)\n",
      "Requirement already satisfied: Pillow>=9.1 in c:\\users\\shekhani laptops\\anaconda3\\lib\\site-packages (from pdfplumber) (10.4.0)\n",
      "Requirement already satisfied: pypdfium2>=4.18.0 in c:\\users\\shekhani laptops\\anaconda3\\lib\\site-packages (from pdfplumber) (4.30.1)\n",
      "Requirement already satisfied: charset-normalizer>=2.0.0 in c:\\users\\shekhani laptops\\anaconda3\\lib\\site-packages (from pdfminer.six==20250327->pdfplumber) (3.3.2)\n",
      "Requirement already satisfied: cryptography>=36.0.0 in c:\\users\\shekhani laptops\\anaconda3\\lib\\site-packages (from pdfminer.six==20250327->pdfplumber) (43.0.3)\n",
      "Requirement already satisfied: lxml>=3.1.0 in c:\\users\\shekhani laptops\\anaconda3\\lib\\site-packages (from python-docx) (5.2.1)\n",
      "Requirement already satisfied: typing-extensions>=4.9.0 in c:\\users\\shekhani laptops\\anaconda3\\lib\\site-packages (from python-docx) (4.11.0)\n",
      "Requirement already satisfied: cffi>=1.12 in c:\\users\\shekhani laptops\\anaconda3\\lib\\site-packages (from cryptography>=36.0.0->pdfminer.six==20250327->pdfplumber) (1.17.1)\n",
      "Requirement already satisfied: pycparser in c:\\users\\shekhani laptops\\anaconda3\\lib\\site-packages (from cffi>=1.12->cryptography>=36.0.0->pdfminer.six==20250327->pdfplumber) (2.21)\n"
     ]
    }
   ],
   "source": [
    "!pip install pdfplumber python-docx\n"
   ]
  },
  {
   "cell_type": "code",
   "execution_count": 5,
   "id": "b812bd21-42ff-4763-ae38-86033b40350c",
   "metadata": {},
   "outputs": [
    {
     "name": "stdout",
     "output_type": "stream",
     "text": [
      "Requirement already satisfied: transformers in c:\\users\\shekhani laptops\\anaconda3\\lib\\site-packages (4.50.0)\n",
      "Requirement already satisfied: accelerate in c:\\users\\shekhani laptops\\anaconda3\\lib\\site-packages (1.6.0)\n",
      "Requirement already satisfied: torch in c:\\users\\shekhani laptops\\anaconda3\\lib\\site-packages (2.6.0)\n",
      "Requirement already satisfied: filelock in c:\\users\\shekhani laptops\\anaconda3\\lib\\site-packages (from transformers) (3.13.1)\n",
      "Requirement already satisfied: huggingface-hub<1.0,>=0.26.0 in c:\\users\\shekhani laptops\\anaconda3\\lib\\site-packages (from transformers) (0.29.3)\n",
      "Requirement already satisfied: numpy>=1.17 in c:\\users\\shekhani laptops\\anaconda3\\lib\\site-packages (from transformers) (1.26.4)\n",
      "Requirement already satisfied: packaging>=20.0 in c:\\users\\shekhani laptops\\anaconda3\\lib\\site-packages (from transformers) (24.1)\n",
      "Requirement already satisfied: pyyaml>=5.1 in c:\\users\\shekhani laptops\\anaconda3\\lib\\site-packages (from transformers) (6.0.1)\n",
      "Requirement already satisfied: regex!=2019.12.17 in c:\\users\\shekhani laptops\\anaconda3\\lib\\site-packages (from transformers) (2024.9.11)\n",
      "Requirement already satisfied: requests in c:\\users\\shekhani laptops\\anaconda3\\lib\\site-packages (from transformers) (2.32.3)\n",
      "Requirement already satisfied: tokenizers<0.22,>=0.21 in c:\\users\\shekhani laptops\\anaconda3\\lib\\site-packages (from transformers) (0.21.1)\n",
      "Requirement already satisfied: safetensors>=0.4.3 in c:\\users\\shekhani laptops\\anaconda3\\lib\\site-packages (from transformers) (0.5.3)\n",
      "Requirement already satisfied: tqdm>=4.27 in c:\\users\\shekhani laptops\\anaconda3\\lib\\site-packages (from transformers) (4.66.5)\n",
      "Requirement already satisfied: psutil in c:\\users\\shekhani laptops\\anaconda3\\lib\\site-packages (from accelerate) (5.9.0)\n",
      "Requirement already satisfied: typing-extensions>=4.10.0 in c:\\users\\shekhani laptops\\anaconda3\\lib\\site-packages (from torch) (4.11.0)\n",
      "Requirement already satisfied: networkx in c:\\users\\shekhani laptops\\anaconda3\\lib\\site-packages (from torch) (3.3)\n",
      "Requirement already satisfied: jinja2 in c:\\users\\shekhani laptops\\anaconda3\\lib\\site-packages (from torch) (3.1.4)\n",
      "Requirement already satisfied: fsspec in c:\\users\\shekhani laptops\\anaconda3\\lib\\site-packages (from torch) (2024.6.1)\n",
      "Requirement already satisfied: setuptools in c:\\users\\shekhani laptops\\anaconda3\\lib\\site-packages (from torch) (75.1.0)\n",
      "Requirement already satisfied: sympy==1.13.1 in c:\\users\\shekhani laptops\\anaconda3\\lib\\site-packages (from torch) (1.13.1)\n",
      "Requirement already satisfied: mpmath<1.4,>=1.1.0 in c:\\users\\shekhani laptops\\anaconda3\\lib\\site-packages (from sympy==1.13.1->torch) (1.3.0)\n",
      "Requirement already satisfied: colorama in c:\\users\\shekhani laptops\\anaconda3\\lib\\site-packages (from tqdm>=4.27->transformers) (0.4.6)\n",
      "Requirement already satisfied: MarkupSafe>=2.0 in c:\\users\\shekhani laptops\\anaconda3\\lib\\site-packages (from jinja2->torch) (2.1.3)\n",
      "Requirement already satisfied: charset-normalizer<4,>=2 in c:\\users\\shekhani laptops\\anaconda3\\lib\\site-packages (from requests->transformers) (3.3.2)\n",
      "Requirement already satisfied: idna<4,>=2.5 in c:\\users\\shekhani laptops\\anaconda3\\lib\\site-packages (from requests->transformers) (3.7)\n",
      "Requirement already satisfied: urllib3<3,>=1.21.1 in c:\\users\\shekhani laptops\\anaconda3\\lib\\site-packages (from requests->transformers) (2.2.3)\n",
      "Requirement already satisfied: certifi>=2017.4.17 in c:\\users\\shekhani laptops\\anaconda3\\lib\\site-packages (from requests->transformers) (2024.8.30)\n"
     ]
    }
   ],
   "source": [
    "!pip install transformers accelerate torch\n"
   ]
  },
  {
   "cell_type": "code",
   "execution_count": 6,
   "id": "01da9740-b2ae-41e0-a541-55a7e167ce60",
   "metadata": {},
   "outputs": [
    {
     "name": "stdout",
     "output_type": "stream",
     "text": [
      "Requirement already satisfied: flask in c:\\users\\shekhani laptops\\anaconda3\\lib\\site-packages (3.0.3)\n",
      "Requirement already satisfied: Werkzeug>=3.0.0 in c:\\users\\shekhani laptops\\anaconda3\\lib\\site-packages (from flask) (3.0.3)\n",
      "Requirement already satisfied: Jinja2>=3.1.2 in c:\\users\\shekhani laptops\\anaconda3\\lib\\site-packages (from flask) (3.1.4)\n",
      "Requirement already satisfied: itsdangerous>=2.1.2 in c:\\users\\shekhani laptops\\anaconda3\\lib\\site-packages (from flask) (2.2.0)\n",
      "Requirement already satisfied: click>=8.1.3 in c:\\users\\shekhani laptops\\anaconda3\\lib\\site-packages (from flask) (8.1.7)\n",
      "Requirement already satisfied: blinker>=1.6.2 in c:\\users\\shekhani laptops\\anaconda3\\lib\\site-packages (from flask) (1.6.2)\n",
      "Requirement already satisfied: colorama in c:\\users\\shekhani laptops\\anaconda3\\lib\\site-packages (from click>=8.1.3->flask) (0.4.6)\n",
      "Requirement already satisfied: MarkupSafe>=2.0 in c:\\users\\shekhani laptops\\anaconda3\\lib\\site-packages (from Jinja2>=3.1.2->flask) (2.1.3)\n"
     ]
    }
   ],
   "source": [
    "!pip install flask"
   ]
  },
  {
   "cell_type": "code",
   "execution_count": 7,
   "id": "56d03316",
   "metadata": {},
   "outputs": [
    {
     "name": "stdout",
     "output_type": "stream",
     "text": [
      "Requirement already satisfied: fpdf in c:\\users\\shekhani laptops\\anaconda3\\lib\\site-packages (1.7.2)\n",
      "Requirement already satisfied: flask in c:\\users\\shekhani laptops\\anaconda3\\lib\\site-packages (3.0.3)\n",
      "Requirement already satisfied: torch in c:\\users\\shekhani laptops\\anaconda3\\lib\\site-packages (2.6.0)\n",
      "Requirement already satisfied: transformers in c:\\users\\shekhani laptops\\anaconda3\\lib\\site-packages (4.50.0)\n",
      "Requirement already satisfied: pdfplumber in c:\\users\\shekhani laptops\\anaconda3\\lib\\site-packages (0.11.6)\n",
      "Requirement already satisfied: Werkzeug>=3.0.0 in c:\\users\\shekhani laptops\\anaconda3\\lib\\site-packages (from flask) (3.0.3)\n",
      "Requirement already satisfied: Jinja2>=3.1.2 in c:\\users\\shekhani laptops\\anaconda3\\lib\\site-packages (from flask) (3.1.4)\n",
      "Requirement already satisfied: itsdangerous>=2.1.2 in c:\\users\\shekhani laptops\\anaconda3\\lib\\site-packages (from flask) (2.2.0)\n",
      "Requirement already satisfied: click>=8.1.3 in c:\\users\\shekhani laptops\\anaconda3\\lib\\site-packages (from flask) (8.1.7)\n",
      "Requirement already satisfied: blinker>=1.6.2 in c:\\users\\shekhani laptops\\anaconda3\\lib\\site-packages (from flask) (1.6.2)\n",
      "Requirement already satisfied: filelock in c:\\users\\shekhani laptops\\anaconda3\\lib\\site-packages (from torch) (3.13.1)\n",
      "Requirement already satisfied: typing-extensions>=4.10.0 in c:\\users\\shekhani laptops\\anaconda3\\lib\\site-packages (from torch) (4.11.0)\n",
      "Requirement already satisfied: networkx in c:\\users\\shekhani laptops\\anaconda3\\lib\\site-packages (from torch) (3.3)\n",
      "Requirement already satisfied: fsspec in c:\\users\\shekhani laptops\\anaconda3\\lib\\site-packages (from torch) (2024.6.1)\n",
      "Requirement already satisfied: setuptools in c:\\users\\shekhani laptops\\anaconda3\\lib\\site-packages (from torch) (75.1.0)\n",
      "Requirement already satisfied: sympy==1.13.1 in c:\\users\\shekhani laptops\\anaconda3\\lib\\site-packages (from torch) (1.13.1)\n",
      "Requirement already satisfied: mpmath<1.4,>=1.1.0 in c:\\users\\shekhani laptops\\anaconda3\\lib\\site-packages (from sympy==1.13.1->torch) (1.3.0)\n",
      "Requirement already satisfied: huggingface-hub<1.0,>=0.26.0 in c:\\users\\shekhani laptops\\anaconda3\\lib\\site-packages (from transformers) (0.29.3)\n",
      "Requirement already satisfied: numpy>=1.17 in c:\\users\\shekhani laptops\\anaconda3\\lib\\site-packages (from transformers) (1.26.4)\n",
      "Requirement already satisfied: packaging>=20.0 in c:\\users\\shekhani laptops\\anaconda3\\lib\\site-packages (from transformers) (24.1)\n",
      "Requirement already satisfied: pyyaml>=5.1 in c:\\users\\shekhani laptops\\anaconda3\\lib\\site-packages (from transformers) (6.0.1)\n",
      "Requirement already satisfied: regex!=2019.12.17 in c:\\users\\shekhani laptops\\anaconda3\\lib\\site-packages (from transformers) (2024.9.11)\n",
      "Requirement already satisfied: requests in c:\\users\\shekhani laptops\\anaconda3\\lib\\site-packages (from transformers) (2.32.3)\n",
      "Requirement already satisfied: tokenizers<0.22,>=0.21 in c:\\users\\shekhani laptops\\anaconda3\\lib\\site-packages (from transformers) (0.21.1)\n",
      "Requirement already satisfied: safetensors>=0.4.3 in c:\\users\\shekhani laptops\\anaconda3\\lib\\site-packages (from transformers) (0.5.3)\n",
      "Requirement already satisfied: tqdm>=4.27 in c:\\users\\shekhani laptops\\anaconda3\\lib\\site-packages (from transformers) (4.66.5)\n",
      "Requirement already satisfied: pdfminer.six==20250327 in c:\\users\\shekhani laptops\\anaconda3\\lib\\site-packages (from pdfplumber) (20250327)\n",
      "Requirement already satisfied: Pillow>=9.1 in c:\\users\\shekhani laptops\\anaconda3\\lib\\site-packages (from pdfplumber) (10.4.0)\n",
      "Requirement already satisfied: pypdfium2>=4.18.0 in c:\\users\\shekhani laptops\\anaconda3\\lib\\site-packages (from pdfplumber) (4.30.1)\n",
      "Requirement already satisfied: charset-normalizer>=2.0.0 in c:\\users\\shekhani laptops\\anaconda3\\lib\\site-packages (from pdfminer.six==20250327->pdfplumber) (3.3.2)\n",
      "Requirement already satisfied: cryptography>=36.0.0 in c:\\users\\shekhani laptops\\anaconda3\\lib\\site-packages (from pdfminer.six==20250327->pdfplumber) (43.0.3)\n",
      "Requirement already satisfied: colorama in c:\\users\\shekhani laptops\\anaconda3\\lib\\site-packages (from click>=8.1.3->flask) (0.4.6)\n",
      "Requirement already satisfied: MarkupSafe>=2.0 in c:\\users\\shekhani laptops\\anaconda3\\lib\\site-packages (from Jinja2>=3.1.2->flask) (2.1.3)\n",
      "Requirement already satisfied: idna<4,>=2.5 in c:\\users\\shekhani laptops\\anaconda3\\lib\\site-packages (from requests->transformers) (3.7)\n",
      "Requirement already satisfied: urllib3<3,>=1.21.1 in c:\\users\\shekhani laptops\\anaconda3\\lib\\site-packages (from requests->transformers) (2.2.3)\n",
      "Requirement already satisfied: certifi>=2017.4.17 in c:\\users\\shekhani laptops\\anaconda3\\lib\\site-packages (from requests->transformers) (2024.8.30)\n",
      "Requirement already satisfied: cffi>=1.12 in c:\\users\\shekhani laptops\\anaconda3\\lib\\site-packages (from cryptography>=36.0.0->pdfminer.six==20250327->pdfplumber) (1.17.1)\n",
      "Requirement already satisfied: pycparser in c:\\users\\shekhani laptops\\anaconda3\\lib\\site-packages (from cffi>=1.12->cryptography>=36.0.0->pdfminer.six==20250327->pdfplumber) (2.21)\n"
     ]
    }
   ],
   "source": [
    "!pip install fpdf flask torch transformers pdfplumber\n"
   ]
  },
  {
   "cell_type": "code",
   "execution_count": 8,
   "id": "d4583984",
   "metadata": {},
   "outputs": [
    {
     "name": "stdout",
     "output_type": "stream",
     "text": [
      "Requirement already satisfied: docx in c:\\users\\shekhani laptops\\anaconda3\\lib\\site-packages (0.2.4)\n",
      "Requirement already satisfied: lxml in c:\\users\\shekhani laptops\\anaconda3\\lib\\site-packages (from docx) (5.2.1)\n",
      "Requirement already satisfied: Pillow>=2.0 in c:\\users\\shekhani laptops\\anaconda3\\lib\\site-packages (from docx) (10.4.0)\n"
     ]
    }
   ],
   "source": [
    "!pip install docx"
   ]
  },
  {
   "cell_type": "code",
   "execution_count": 1,
   "id": "8acc6398",
   "metadata": {},
   "outputs": [
    {
     "name": "stdout",
     "output_type": "stream",
     "text": [
      "Collecting keras==2.12.0\n",
      "  Downloading keras-2.12.0-py2.py3-none-any.whl.metadata (1.4 kB)\n",
      "Downloading keras-2.12.0-py2.py3-none-any.whl (1.7 MB)\n",
      "   ---------------------------------------- 0.0/1.7 MB ? eta -:--:--\n",
      "   ---------------------------------------- 0.0/1.7 MB ? eta -:--:--\n",
      "   ------ --------------------------------- 0.3/1.7 MB ? eta -:--:--\n",
      "   ------------ --------------------------- 0.5/1.7 MB 1.4 MB/s eta 0:00:01\n",
      "   ------------------------ --------------- 1.0/1.7 MB 1.5 MB/s eta 0:00:01\n",
      "   ------------------------------ --------- 1.3/1.7 MB 1.6 MB/s eta 0:00:01\n",
      "   ---------------------------------------- 1.7/1.7 MB 1.7 MB/s eta 0:00:00\n",
      "Installing collected packages: keras\n",
      "  Attempting uninstall: keras\n",
      "    Found existing installation: keras 3.9.2\n",
      "    Uninstalling keras-3.9.2:\n",
      "      Successfully uninstalled keras-3.9.2\n",
      "Successfully installed keras-2.12.0\n"
     ]
    },
    {
     "name": "stderr",
     "output_type": "stream",
     "text": [
      "ERROR: pip's dependency resolver does not currently take into account all the packages that are installed. This behaviour is the source of the following dependency conflicts.\n",
      "tensorflow 2.19.0 requires keras>=3.5.0, but you have keras 2.12.0 which is incompatible.\n"
     ]
    }
   ],
   "source": [
    "!pip install keras==2.12.0"
   ]
  },
  {
   "cell_type": "code",
   "execution_count": 9,
   "id": "7e8f7124",
   "metadata": {},
   "outputs": [
    {
     "name": "stdout",
     "output_type": "stream",
     "text": [
      "^C\n",
      "Note: you may need to restart the kernel to use updated packages.\n"
     ]
    }
   ],
   "source": [
    "!pip uninstall tensorflow keras tf-keras -y"
   ]
  },
  {
   "cell_type": "code",
   "execution_count": 10,
   "id": "c16ef12a",
   "metadata": {},
   "outputs": [
    {
     "name": "stdout",
     "output_type": "stream",
     "text": [
      "Found existing installation: tensorflow 2.19.0\n",
      "Uninstalling tensorflow-2.19.0:\n",
      "  Successfully uninstalled tensorflow-2.19.0\n",
      "Found existing installation: keras 2.12.0\n",
      "Uninstalling keras-2.12.0:\n",
      "  Successfully uninstalled keras-2.12.0\n"
     ]
    },
    {
     "name": "stderr",
     "output_type": "stream",
     "text": [
      "WARNING: Failed to remove contents in a temporary directory 'C:\\Users\\Shekhani Laptops\\anaconda3\\Lib\\site-packages\\~ensorflow'.\n",
      "You can safely remove it manually.\n",
      "WARNING: Skipping tf-keras as it is not installed.\n",
      "ERROR: Could not find a version that satisfies the requirement tensorflow==2.12.0 (from versions: 2.16.0rc0, 2.16.1, 2.16.2, 2.17.0rc0, 2.17.0rc1, 2.17.0, 2.17.1, 2.18.0rc0, 2.18.0rc1, 2.18.0rc2, 2.18.0, 2.18.1, 2.19.0rc0, 2.19.0)\n",
      "ERROR: No matching distribution found for tensorflow==2.12.0\n"
     ]
    },
    {
     "name": "stdout",
     "output_type": "stream",
     "text": [
      "Collecting keras==2.12.0\n",
      "  Using cached keras-2.12.0-py2.py3-none-any.whl.metadata (1.4 kB)\n",
      "Using cached keras-2.12.0-py2.py3-none-any.whl (1.7 MB)\n",
      "Installing collected packages: keras\n",
      "Successfully installed keras-2.12.0\n",
      "Collecting tf-keras\n",
      "  Downloading tf_keras-2.19.0-py3-none-any.whl.metadata (1.8 kB)\n",
      "Collecting tensorflow<2.20,>=2.19 (from tf-keras)\n",
      "  Using cached tensorflow-2.19.0-cp312-cp312-win_amd64.whl.metadata (4.1 kB)\n",
      "Requirement already satisfied: absl-py>=1.0.0 in c:\\users\\shekhani laptops\\anaconda3\\lib\\site-packages (from tensorflow<2.20,>=2.19->tf-keras) (2.2.2)\n",
      "Requirement already satisfied: astunparse>=1.6.0 in c:\\users\\shekhani laptops\\anaconda3\\lib\\site-packages (from tensorflow<2.20,>=2.19->tf-keras) (1.6.3)\n",
      "Requirement already satisfied: flatbuffers>=24.3.25 in c:\\users\\shekhani laptops\\anaconda3\\lib\\site-packages (from tensorflow<2.20,>=2.19->tf-keras) (25.2.10)\n",
      "Requirement already satisfied: gast!=0.5.0,!=0.5.1,!=0.5.2,>=0.2.1 in c:\\users\\shekhani laptops\\anaconda3\\lib\\site-packages (from tensorflow<2.20,>=2.19->tf-keras) (0.6.0)\n",
      "Requirement already satisfied: google-pasta>=0.1.1 in c:\\users\\shekhani laptops\\anaconda3\\lib\\site-packages (from tensorflow<2.20,>=2.19->tf-keras) (0.2.0)\n",
      "Requirement already satisfied: libclang>=13.0.0 in c:\\users\\shekhani laptops\\anaconda3\\lib\\site-packages (from tensorflow<2.20,>=2.19->tf-keras) (18.1.1)\n",
      "Requirement already satisfied: opt-einsum>=2.3.2 in c:\\users\\shekhani laptops\\anaconda3\\lib\\site-packages (from tensorflow<2.20,>=2.19->tf-keras) (3.4.0)\n",
      "Requirement already satisfied: packaging in c:\\users\\shekhani laptops\\anaconda3\\lib\\site-packages (from tensorflow<2.20,>=2.19->tf-keras) (24.1)\n",
      "Requirement already satisfied: protobuf!=4.21.0,!=4.21.1,!=4.21.2,!=4.21.3,!=4.21.4,!=4.21.5,<6.0.0dev,>=3.20.3 in c:\\users\\shekhani laptops\\anaconda3\\lib\\site-packages (from tensorflow<2.20,>=2.19->tf-keras) (4.25.3)\n",
      "Requirement already satisfied: requests<3,>=2.21.0 in c:\\users\\shekhani laptops\\anaconda3\\lib\\site-packages (from tensorflow<2.20,>=2.19->tf-keras) (2.32.3)\n",
      "Requirement already satisfied: setuptools in c:\\users\\shekhani laptops\\anaconda3\\lib\\site-packages (from tensorflow<2.20,>=2.19->tf-keras) (75.1.0)\n",
      "Requirement already satisfied: six>=1.12.0 in c:\\users\\shekhani laptops\\anaconda3\\lib\\site-packages (from tensorflow<2.20,>=2.19->tf-keras) (1.16.0)\n",
      "Requirement already satisfied: termcolor>=1.1.0 in c:\\users\\shekhani laptops\\anaconda3\\lib\\site-packages (from tensorflow<2.20,>=2.19->tf-keras) (3.1.0)\n",
      "Requirement already satisfied: typing-extensions>=3.6.6 in c:\\users\\shekhani laptops\\anaconda3\\lib\\site-packages (from tensorflow<2.20,>=2.19->tf-keras) (4.11.0)\n",
      "Requirement already satisfied: wrapt>=1.11.0 in c:\\users\\shekhani laptops\\anaconda3\\lib\\site-packages (from tensorflow<2.20,>=2.19->tf-keras) (1.14.1)\n",
      "Requirement already satisfied: grpcio<2.0,>=1.24.3 in c:\\users\\shekhani laptops\\anaconda3\\lib\\site-packages (from tensorflow<2.20,>=2.19->tf-keras) (1.71.0)\n",
      "Requirement already satisfied: tensorboard~=2.19.0 in c:\\users\\shekhani laptops\\anaconda3\\lib\\site-packages (from tensorflow<2.20,>=2.19->tf-keras) (2.19.0)\n",
      "Collecting keras>=3.5.0 (from tensorflow<2.20,>=2.19->tf-keras)\n",
      "  Using cached keras-3.9.2-py3-none-any.whl.metadata (6.1 kB)\n",
      "Requirement already satisfied: numpy<2.2.0,>=1.26.0 in c:\\users\\shekhani laptops\\anaconda3\\lib\\site-packages (from tensorflow<2.20,>=2.19->tf-keras) (1.26.4)\n",
      "Requirement already satisfied: h5py>=3.11.0 in c:\\users\\shekhani laptops\\anaconda3\\lib\\site-packages (from tensorflow<2.20,>=2.19->tf-keras) (3.11.0)\n",
      "Requirement already satisfied: ml-dtypes<1.0.0,>=0.5.1 in c:\\users\\shekhani laptops\\anaconda3\\lib\\site-packages (from tensorflow<2.20,>=2.19->tf-keras) (0.5.1)\n",
      "Requirement already satisfied: wheel<1.0,>=0.23.0 in c:\\users\\shekhani laptops\\anaconda3\\lib\\site-packages (from astunparse>=1.6.0->tensorflow<2.20,>=2.19->tf-keras) (0.44.0)\n",
      "Requirement already satisfied: rich in c:\\users\\shekhani laptops\\anaconda3\\lib\\site-packages (from keras>=3.5.0->tensorflow<2.20,>=2.19->tf-keras) (13.7.1)\n",
      "Requirement already satisfied: namex in c:\\users\\shekhani laptops\\anaconda3\\lib\\site-packages (from keras>=3.5.0->tensorflow<2.20,>=2.19->tf-keras) (0.0.9)\n",
      "Requirement already satisfied: optree in c:\\users\\shekhani laptops\\anaconda3\\lib\\site-packages (from keras>=3.5.0->tensorflow<2.20,>=2.19->tf-keras) (0.15.0)\n",
      "Requirement already satisfied: charset-normalizer<4,>=2 in c:\\users\\shekhani laptops\\anaconda3\\lib\\site-packages (from requests<3,>=2.21.0->tensorflow<2.20,>=2.19->tf-keras) (3.3.2)\n",
      "Requirement already satisfied: idna<4,>=2.5 in c:\\users\\shekhani laptops\\anaconda3\\lib\\site-packages (from requests<3,>=2.21.0->tensorflow<2.20,>=2.19->tf-keras) (3.7)\n",
      "Requirement already satisfied: urllib3<3,>=1.21.1 in c:\\users\\shekhani laptops\\anaconda3\\lib\\site-packages (from requests<3,>=2.21.0->tensorflow<2.20,>=2.19->tf-keras) (2.2.3)\n",
      "Requirement already satisfied: certifi>=2017.4.17 in c:\\users\\shekhani laptops\\anaconda3\\lib\\site-packages (from requests<3,>=2.21.0->tensorflow<2.20,>=2.19->tf-keras) (2024.8.30)\n",
      "Requirement already satisfied: markdown>=2.6.8 in c:\\users\\shekhani laptops\\anaconda3\\lib\\site-packages (from tensorboard~=2.19.0->tensorflow<2.20,>=2.19->tf-keras) (3.4.1)\n",
      "Requirement already satisfied: tensorboard-data-server<0.8.0,>=0.7.0 in c:\\users\\shekhani laptops\\anaconda3\\lib\\site-packages (from tensorboard~=2.19.0->tensorflow<2.20,>=2.19->tf-keras) (0.7.2)\n",
      "Requirement already satisfied: werkzeug>=1.0.1 in c:\\users\\shekhani laptops\\anaconda3\\lib\\site-packages (from tensorboard~=2.19.0->tensorflow<2.20,>=2.19->tf-keras) (3.0.3)\n",
      "Requirement already satisfied: MarkupSafe>=2.1.1 in c:\\users\\shekhani laptops\\anaconda3\\lib\\site-packages (from werkzeug>=1.0.1->tensorboard~=2.19.0->tensorflow<2.20,>=2.19->tf-keras) (2.1.3)\n",
      "Requirement already satisfied: markdown-it-py>=2.2.0 in c:\\users\\shekhani laptops\\anaconda3\\lib\\site-packages (from rich->keras>=3.5.0->tensorflow<2.20,>=2.19->tf-keras) (2.2.0)\n",
      "Requirement already satisfied: pygments<3.0.0,>=2.13.0 in c:\\users\\shekhani laptops\\anaconda3\\lib\\site-packages (from rich->keras>=3.5.0->tensorflow<2.20,>=2.19->tf-keras) (2.15.1)\n",
      "Requirement already satisfied: mdurl~=0.1 in c:\\users\\shekhani laptops\\anaconda3\\lib\\site-packages (from markdown-it-py>=2.2.0->rich->keras>=3.5.0->tensorflow<2.20,>=2.19->tf-keras) (0.1.0)\n",
      "Downloading tf_keras-2.19.0-py3-none-any.whl (1.7 MB)\n",
      "   ---------------------------------------- 0.0/1.7 MB ? eta -:--:--\n",
      "   ---------------------------------------- 0.0/1.7 MB ? eta -:--:--\n",
      "   ---------------------------------------- 0.0/1.7 MB ? eta -:--:--\n",
      "   ------ --------------------------------- 0.3/1.7 MB ? eta -:--:--\n",
      "   ------------ --------------------------- 0.5/1.7 MB 989.2 kB/s eta 0:00:02\n",
      "   ------------ --------------------------- 0.5/1.7 MB 989.2 kB/s eta 0:00:02\n",
      "   ------------------ --------------------- 0.8/1.7 MB 799.2 kB/s eta 0:00:02\n",
      "   ------------------------ --------------- 1.0/1.7 MB 774.8 kB/s eta 0:00:01\n",
      "   ------------------------ --------------- 1.0/1.7 MB 774.8 kB/s eta 0:00:01\n",
      "   ------------------------------ --------- 1.3/1.7 MB 809.1 kB/s eta 0:00:01\n",
      "   ------------------------------------ --- 1.6/1.7 MB 814.6 kB/s eta 0:00:01\n",
      "   ---------------------------------------- 1.7/1.7 MB 822.4 kB/s eta 0:00:00\n",
      "Using cached tensorflow-2.19.0-cp312-cp312-win_amd64.whl (376.0 MB)\n",
      "Using cached keras-3.9.2-py3-none-any.whl (1.3 MB)\n",
      "Installing collected packages: keras, tensorflow, tf-keras\n",
      "  Attempting uninstall: keras\n",
      "    Found existing installation: keras 2.12.0\n",
      "    Uninstalling keras-2.12.0:\n",
      "      Successfully uninstalled keras-2.12.0\n",
      "Successfully installed keras-3.9.2 tensorflow-2.19.0 tf-keras-2.19.0\n"
     ]
    }
   ],
   "source": [
    "!pip install tensorflow==2.12.0\n",
    "!pip install keras==2.12.0\n",
    "!pip install tf-keras"
   ]
  },
  {
   "cell_type": "code",
   "execution_count": 11,
   "id": "014e45cc",
   "metadata": {},
   "outputs": [
    {
     "name": "stdout",
     "output_type": "stream",
     "text": [
      "Requirement already satisfied: transformers in c:\\users\\shekhani laptops\\anaconda3\\lib\\site-packages (4.50.0)\n",
      "Collecting transformers\n",
      "  Downloading transformers-4.51.3-py3-none-any.whl.metadata (38 kB)\n",
      "Requirement already satisfied: filelock in c:\\users\\shekhani laptops\\anaconda3\\lib\\site-packages (from transformers) (3.13.1)\n",
      "Collecting huggingface-hub<1.0,>=0.30.0 (from transformers)\n",
      "  Downloading huggingface_hub-0.30.2-py3-none-any.whl.metadata (13 kB)\n",
      "Requirement already satisfied: numpy>=1.17 in c:\\users\\shekhani laptops\\anaconda3\\lib\\site-packages (from transformers) (1.26.4)\n",
      "Requirement already satisfied: packaging>=20.0 in c:\\users\\shekhani laptops\\anaconda3\\lib\\site-packages (from transformers) (24.1)\n",
      "Requirement already satisfied: pyyaml>=5.1 in c:\\users\\shekhani laptops\\anaconda3\\lib\\site-packages (from transformers) (6.0.1)\n",
      "Requirement already satisfied: regex!=2019.12.17 in c:\\users\\shekhani laptops\\anaconda3\\lib\\site-packages (from transformers) (2024.9.11)\n",
      "Requirement already satisfied: requests in c:\\users\\shekhani laptops\\anaconda3\\lib\\site-packages (from transformers) (2.32.3)\n",
      "Requirement already satisfied: tokenizers<0.22,>=0.21 in c:\\users\\shekhani laptops\\anaconda3\\lib\\site-packages (from transformers) (0.21.1)\n",
      "Requirement already satisfied: safetensors>=0.4.3 in c:\\users\\shekhani laptops\\anaconda3\\lib\\site-packages (from transformers) (0.5.3)\n",
      "Requirement already satisfied: tqdm>=4.27 in c:\\users\\shekhani laptops\\anaconda3\\lib\\site-packages (from transformers) (4.66.5)\n",
      "Requirement already satisfied: fsspec>=2023.5.0 in c:\\users\\shekhani laptops\\anaconda3\\lib\\site-packages (from huggingface-hub<1.0,>=0.30.0->transformers) (2024.6.1)\n",
      "Requirement already satisfied: typing-extensions>=3.7.4.3 in c:\\users\\shekhani laptops\\anaconda3\\lib\\site-packages (from huggingface-hub<1.0,>=0.30.0->transformers) (4.11.0)\n",
      "Requirement already satisfied: colorama in c:\\users\\shekhani laptops\\anaconda3\\lib\\site-packages (from tqdm>=4.27->transformers) (0.4.6)\n",
      "Requirement already satisfied: charset-normalizer<4,>=2 in c:\\users\\shekhani laptops\\anaconda3\\lib\\site-packages (from requests->transformers) (3.3.2)\n",
      "Requirement already satisfied: idna<4,>=2.5 in c:\\users\\shekhani laptops\\anaconda3\\lib\\site-packages (from requests->transformers) (3.7)\n",
      "Requirement already satisfied: urllib3<3,>=1.21.1 in c:\\users\\shekhani laptops\\anaconda3\\lib\\site-packages (from requests->transformers) (2.2.3)\n",
      "Requirement already satisfied: certifi>=2017.4.17 in c:\\users\\shekhani laptops\\anaconda3\\lib\\site-packages (from requests->transformers) (2024.8.30)\n",
      "Downloading transformers-4.51.3-py3-none-any.whl (10.4 MB)\n",
      "   ---------------------------------------- 0.0/10.4 MB ? eta -:--:--\n",
      "   ---------------------------------------- 0.0/10.4 MB ? eta -:--:--\n",
      "   ---------------------------------------- 0.0/10.4 MB ? eta -:--:--\n",
      "   - -------------------------------------- 0.3/10.4 MB ? eta -:--:--\n",
      "   - -------------------------------------- 0.3/10.4 MB ? eta -:--:--\n",
      "   -- ------------------------------------- 0.5/10.4 MB 524.3 kB/s eta 0:00:19\n",
      "   -- ------------------------------------- 0.5/10.4 MB 524.3 kB/s eta 0:00:19\n",
      "   --- ------------------------------------ 0.8/10.4 MB 558.9 kB/s eta 0:00:18\n",
      "   --- ------------------------------------ 0.8/10.4 MB 558.9 kB/s eta 0:00:18\n",
      "   ---- ----------------------------------- 1.0/10.4 MB 541.2 kB/s eta 0:00:18\n",
      "   ----- ---------------------------------- 1.3/10.4 MB 645.3 kB/s eta 0:00:15\n",
      "   ----- ---------------------------------- 1.3/10.4 MB 645.3 kB/s eta 0:00:15\n",
      "   ------ --------------------------------- 1.6/10.4 MB 630.8 kB/s eta 0:00:14\n",
      "   ------- -------------------------------- 1.8/10.4 MB 680.0 kB/s eta 0:00:13\n",
      "   -------- ------------------------------- 2.1/10.4 MB 716.0 kB/s eta 0:00:12\n",
      "   -------- ------------------------------- 2.1/10.4 MB 716.0 kB/s eta 0:00:12\n",
      "   -------- ------------------------------- 2.1/10.4 MB 716.0 kB/s eta 0:00:12\n",
      "   --------- ------------------------------ 2.4/10.4 MB 688.3 kB/s eta 0:00:12\n",
      "   --------- ------------------------------ 2.4/10.4 MB 688.3 kB/s eta 0:00:12\n",
      "   --------- ------------------------------ 2.4/10.4 MB 688.3 kB/s eta 0:00:12\n",
      "   ---------- ----------------------------- 2.6/10.4 MB 611.4 kB/s eta 0:00:13\n",
      "   ---------- ----------------------------- 2.6/10.4 MB 611.4 kB/s eta 0:00:13\n",
      "   ---------- ----------------------------- 2.6/10.4 MB 611.4 kB/s eta 0:00:13\n",
      "   ---------- ----------------------------- 2.6/10.4 MB 611.4 kB/s eta 0:00:13\n",
      "   ----------- ---------------------------- 2.9/10.4 MB 553.7 kB/s eta 0:00:14\n",
      "   ----------- ---------------------------- 2.9/10.4 MB 553.7 kB/s eta 0:00:14\n",
      "   ----------- ---------------------------- 2.9/10.4 MB 553.7 kB/s eta 0:00:14\n",
      "   ----------- ---------------------------- 2.9/10.4 MB 553.7 kB/s eta 0:00:14\n",
      "   ------------ --------------------------- 3.1/10.4 MB 519.8 kB/s eta 0:00:14\n",
      "   ------------ --------------------------- 3.1/10.4 MB 519.8 kB/s eta 0:00:14\n",
      "   ------------ --------------------------- 3.1/10.4 MB 519.8 kB/s eta 0:00:14\n",
      "   ------------ --------------------------- 3.1/10.4 MB 519.8 kB/s eta 0:00:14\n",
      "   ------------- -------------------------- 3.4/10.4 MB 485.2 kB/s eta 0:00:15\n",
      "   ------------- -------------------------- 3.4/10.4 MB 485.2 kB/s eta 0:00:15\n",
      "   -------------- ------------------------- 3.7/10.4 MB 497.9 kB/s eta 0:00:14\n",
      "   -------------- ------------------------- 3.7/10.4 MB 497.9 kB/s eta 0:00:14\n",
      "   -------------- ------------------------- 3.7/10.4 MB 497.9 kB/s eta 0:00:14\n",
      "   --------------- ------------------------ 3.9/10.4 MB 493.4 kB/s eta 0:00:14\n",
      "   --------------- ------------------------ 3.9/10.4 MB 493.4 kB/s eta 0:00:14\n",
      "   --------------- ------------------------ 3.9/10.4 MB 493.4 kB/s eta 0:00:14\n",
      "   --------------- ------------------------ 3.9/10.4 MB 493.4 kB/s eta 0:00:14\n",
      "   ---------------- ----------------------- 4.2/10.4 MB 470.4 kB/s eta 0:00:14\n",
      "   ---------------- ----------------------- 4.2/10.4 MB 470.4 kB/s eta 0:00:14\n",
      "   ---------------- ----------------------- 4.2/10.4 MB 470.4 kB/s eta 0:00:14\n",
      "   ----------------- ---------------------- 4.5/10.4 MB 471.0 kB/s eta 0:00:13\n",
      "   ----------------- ---------------------- 4.5/10.4 MB 471.0 kB/s eta 0:00:13\n",
      "   ----------------- ---------------------- 4.5/10.4 MB 471.0 kB/s eta 0:00:13\n",
      "   ------------------ --------------------- 4.7/10.4 MB 462.2 kB/s eta 0:00:13\n",
      "   ------------------ --------------------- 4.7/10.4 MB 462.2 kB/s eta 0:00:13\n",
      "   ------------------ --------------------- 4.7/10.4 MB 462.2 kB/s eta 0:00:13\n",
      "   ------------------ --------------------- 4.7/10.4 MB 462.2 kB/s eta 0:00:13\n",
      "   ------------------- -------------------- 5.0/10.4 MB 454.8 kB/s eta 0:00:12\n",
      "   ------------------- -------------------- 5.0/10.4 MB 454.8 kB/s eta 0:00:12\n",
      "   ------------------- -------------------- 5.0/10.4 MB 454.8 kB/s eta 0:00:12\n",
      "   -------------------- ------------------- 5.2/10.4 MB 449.0 kB/s eta 0:00:12\n",
      "   -------------------- ------------------- 5.2/10.4 MB 449.0 kB/s eta 0:00:12\n",
      "   --------------------- ------------------ 5.5/10.4 MB 450.4 kB/s eta 0:00:11\n",
      "   --------------------- ------------------ 5.5/10.4 MB 450.4 kB/s eta 0:00:11\n",
      "   ---------------------- ----------------- 5.8/10.4 MB 460.6 kB/s eta 0:00:11\n",
      "   ----------------------- ---------------- 6.0/10.4 MB 470.2 kB/s eta 0:00:10\n",
      "   ----------------------- ---------------- 6.0/10.4 MB 470.2 kB/s eta 0:00:10\n",
      "   ------------------------ --------------- 6.3/10.4 MB 475.2 kB/s eta 0:00:09\n",
      "   ------------------------ --------------- 6.3/10.4 MB 475.2 kB/s eta 0:00:09\n",
      "   ------------------------- -------------- 6.6/10.4 MB 479.9 kB/s eta 0:00:08\n",
      "   ------------------------- -------------- 6.6/10.4 MB 479.9 kB/s eta 0:00:08\n",
      "   -------------------------- ------------- 6.8/10.4 MB 486.0 kB/s eta 0:00:08\n",
      "   -------------------------- ------------- 6.8/10.4 MB 486.0 kB/s eta 0:00:08\n",
      "   --------------------------- ------------ 7.1/10.4 MB 491.2 kB/s eta 0:00:07\n",
      "   ---------------------------- ----------- 7.3/10.4 MB 495.6 kB/s eta 0:00:07\n",
      "   ---------------------------- ----------- 7.3/10.4 MB 495.6 kB/s eta 0:00:07\n",
      "   ---------------------------- ----------- 7.3/10.4 MB 495.6 kB/s eta 0:00:07\n",
      "   ----------------------------- ---------- 7.6/10.4 MB 494.0 kB/s eta 0:00:06\n",
      "   ----------------------------- ---------- 7.6/10.4 MB 494.0 kB/s eta 0:00:06\n",
      "   ------------------------------ --------- 7.9/10.4 MB 499.0 kB/s eta 0:00:06\n",
      "   ------------------------------ --------- 7.9/10.4 MB 499.0 kB/s eta 0:00:06\n",
      "   ------------------------------- -------- 8.1/10.4 MB 500.8 kB/s eta 0:00:05\n",
      "   ------------------------------- -------- 8.1/10.4 MB 500.8 kB/s eta 0:00:05\n",
      "   -------------------------------- ------- 8.4/10.4 MB 504.5 kB/s eta 0:00:04\n",
      "   -------------------------------- ------- 8.4/10.4 MB 504.5 kB/s eta 0:00:04\n",
      "   -------------------------------- ------- 8.4/10.4 MB 504.5 kB/s eta 0:00:04\n",
      "   -------------------------------- ------- 8.4/10.4 MB 504.5 kB/s eta 0:00:04\n",
      "   -------------------------------- ------- 8.4/10.4 MB 504.5 kB/s eta 0:00:04\n",
      "   -------------------------------- ------- 8.4/10.4 MB 504.5 kB/s eta 0:00:04\n",
      "   --------------------------------- ------ 8.7/10.4 MB 478.1 kB/s eta 0:00:04\n",
      "   --------------------------------- ------ 8.7/10.4 MB 478.1 kB/s eta 0:00:04\n",
      "   ---------------------------------- ----- 8.9/10.4 MB 481.0 kB/s eta 0:00:04\n",
      "   ---------------------------------- ----- 8.9/10.4 MB 481.0 kB/s eta 0:00:04\n",
      "   ---------------------------------- ----- 8.9/10.4 MB 481.0 kB/s eta 0:00:04\n",
      "   ---------------------------------- ----- 8.9/10.4 MB 481.0 kB/s eta 0:00:04\n",
      "   ----------------------------------- ---- 9.2/10.4 MB 473.8 kB/s eta 0:00:03\n",
      "   ----------------------------------- ---- 9.2/10.4 MB 473.8 kB/s eta 0:00:03\n",
      "   ----------------------------------- ---- 9.2/10.4 MB 473.8 kB/s eta 0:00:03\n",
      "   ----------------------------------- ---- 9.2/10.4 MB 473.8 kB/s eta 0:00:03\n",
      "   ------------------------------------ --- 9.4/10.4 MB 465.3 kB/s eta 0:00:03\n",
      "   ------------------------------------ --- 9.4/10.4 MB 465.3 kB/s eta 0:00:03\n",
      "   ------------------------------------ --- 9.4/10.4 MB 465.3 kB/s eta 0:00:03\n",
      "   ------------------------------------ --- 9.4/10.4 MB 465.3 kB/s eta 0:00:03\n",
      "   ------------------------------------- -- 9.7/10.4 MB 461.7 kB/s eta 0:00:02\n",
      "   ------------------------------------- -- 9.7/10.4 MB 461.7 kB/s eta 0:00:02\n",
      "   ------------------------------------- -- 9.7/10.4 MB 461.7 kB/s eta 0:00:02\n",
      "   -------------------------------------- - 10.0/10.4 MB 455.4 kB/s eta 0:00:01\n",
      "   -------------------------------------- - 10.0/10.4 MB 455.4 kB/s eta 0:00:01\n",
      "   -------------------------------------- - 10.0/10.4 MB 455.4 kB/s eta 0:00:01\n",
      "   -------------------------------------- - 10.0/10.4 MB 455.4 kB/s eta 0:00:01\n",
      "   -------------------------------------- - 10.0/10.4 MB 455.4 kB/s eta 0:00:01\n",
      "   -------------------------------------- - 10.0/10.4 MB 455.4 kB/s eta 0:00:01\n",
      "   -------------------------------------- - 10.0/10.4 MB 455.4 kB/s eta 0:00:01\n",
      "   ---------------------------------------  10.2/10.4 MB 439.1 kB/s eta 0:00:01\n",
      "   ---------------------------------------  10.2/10.4 MB 439.1 kB/s eta 0:00:01\n",
      "   ---------------------------------------  10.2/10.4 MB 439.1 kB/s eta 0:00:01\n",
      "   ---------------------------------------- 10.4/10.4 MB 432.4 kB/s eta 0:00:00\n",
      "Downloading huggingface_hub-0.30.2-py3-none-any.whl (481 kB)\n",
      "Installing collected packages: huggingface-hub, transformers\n",
      "  Attempting uninstall: huggingface-hub\n",
      "    Found existing installation: huggingface-hub 0.29.3\n",
      "    Uninstalling huggingface-hub-0.29.3:\n",
      "      Successfully uninstalled huggingface-hub-0.29.3\n",
      "  Attempting uninstall: transformers\n",
      "    Found existing installation: transformers 4.50.0\n",
      "    Uninstalling transformers-4.50.0:\n",
      "      Successfully uninstalled transformers-4.50.0\n",
      "Successfully installed huggingface-hub-0.30.2 transformers-4.51.3\n"
     ]
    }
   ],
   "source": [
    "!pip install --upgrade transformers"
   ]
  },
  {
   "cell_type": "code",
   "execution_count": 1,
   "id": "02e24ac1",
   "metadata": {},
   "outputs": [
    {
     "name": "stdout",
     "output_type": "stream",
     "text": [
      "Collecting PyPDF2\n",
      "  Downloading pypdf2-3.0.1-py3-none-any.whl.metadata (6.8 kB)\n",
      "Downloading pypdf2-3.0.1-py3-none-any.whl (232 kB)\n",
      "Installing collected packages: PyPDF2\n",
      "Successfully installed PyPDF2-3.0.1\n"
     ]
    }
   ],
   "source": [
    "!pip install PyPDF2"
   ]
  },
  {
   "cell_type": "code",
   "execution_count": 1,
   "id": "8f2acf43",
   "metadata": {},
   "outputs": [
    {
     "name": "stdout",
     "output_type": "stream",
     "text": [
      "^C\n"
     ]
    }
   ],
   "source": [
    "!pip uninstall spacy\n"
   ]
  },
  {
   "cell_type": "code",
   "execution_count": 3,
   "id": "65e46b8a",
   "metadata": {},
   "outputs": [
    {
     "name": "stderr",
     "output_type": "stream",
     "text": [
      "WARNING: Package(s) not found: spacy\n"
     ]
    }
   ],
   "source": [
    "!pip show spacy\n"
   ]
  },
  {
   "cell_type": "code",
   "execution_count": null,
   "id": "cc4f2926",
   "metadata": {},
   "outputs": [],
   "source": [
    "pip install --upgrade pip\n",
    "pip install pandas flask\n"
   ]
  }
 ],
 "metadata": {
  "kernelspec": {
   "display_name": "base",
   "language": "python",
   "name": "python3"
  },
  "language_info": {
   "codemirror_mode": {
    "name": "ipython",
    "version": 3
   },
   "file_extension": ".py",
   "mimetype": "text/x-python",
   "name": "python",
   "nbconvert_exporter": "python",
   "pygments_lexer": "ipython3",
   "version": "3.12.3"
  }
 },
 "nbformat": 4,
 "nbformat_minor": 5
}
